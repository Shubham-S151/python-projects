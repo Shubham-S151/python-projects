{
 "cells": [
  {
   "cell_type": "code",
   "execution_count": 1,
   "metadata": {},
   "outputs": [
    {
     "data": {
      "text/html": [
       "<div>\n",
       "<style scoped>\n",
       "    .dataframe tbody tr th:only-of-type {\n",
       "        vertical-align: middle;\n",
       "    }\n",
       "\n",
       "    .dataframe tbody tr th {\n",
       "        vertical-align: top;\n",
       "    }\n",
       "\n",
       "    .dataframe thead th {\n",
       "        text-align: right;\n",
       "    }\n",
       "</style>\n",
       "<table border=\"1\" class=\"dataframe\">\n",
       "  <thead>\n",
       "    <tr style=\"text-align: right;\">\n",
       "      <th></th>\n",
       "      <th>username</th>\n",
       "      <th>password</th>\n",
       "      <th>accnum</th>\n",
       "      <th>firstname</th>\n",
       "      <th>lastname</th>\n",
       "      <th>balance</th>\n",
       "    </tr>\n",
       "  </thead>\n",
       "  <tbody>\n",
       "    <tr>\n",
       "      <th>0</th>\n",
       "      <td>ss</td>\n",
       "      <td>1234</td>\n",
       "      <td>1234</td>\n",
       "      <td>shubham</td>\n",
       "      <td>sharma</td>\n",
       "      <td>100000</td>\n",
       "    </tr>\n",
       "  </tbody>\n",
       "</table>\n",
       "</div>"
      ],
      "text/plain": [
       "  username  password  accnum firstname lastname  balance\n",
       "0       ss      1234    1234   shubham   sharma   100000"
      ]
     },
     "execution_count": 1,
     "metadata": {},
     "output_type": "execute_result"
    }
   ],
   "source": [
    "import pandas as pd\n",
    "import numpy as num\n",
    "df=pd.read_excel(r\"C:\\Users\\HP\\Desktop\\bank atm code\\sample data for bank login code.xlsx\")\n",
    "df"
   ]
  },
  {
   "cell_type": "code",
   "execution_count": 2,
   "metadata": {},
   "outputs": [
    {
     "data": {
      "text/plain": [
       "Index(['username', 'password', 'accnum', 'firstname', 'lastname', 'balance'], dtype='object')"
      ]
     },
     "execution_count": 2,
     "metadata": {},
     "output_type": "execute_result"
    }
   ],
   "source": [
    "df.columns"
   ]
  },
  {
   "cell_type": "code",
   "execution_count": 3,
   "metadata": {},
   "outputs": [],
   "source": [
    "dict_data={\n",
    "    'username':[], \n",
    "    'password':[], \n",
    "    'accnum':[], \n",
    "    'firstname':[], \n",
    "    'lastname':[], \n",
    "    'balance':[]\n",
    "}"
   ]
  },
  {
   "cell_type": "code",
   "execution_count": 4,
   "metadata": {},
   "outputs": [
    {
     "data": {
      "text/html": [
       "<div>\n",
       "<style scoped>\n",
       "    .dataframe tbody tr th:only-of-type {\n",
       "        vertical-align: middle;\n",
       "    }\n",
       "\n",
       "    .dataframe tbody tr th {\n",
       "        vertical-align: top;\n",
       "    }\n",
       "\n",
       "    .dataframe thead th {\n",
       "        text-align: right;\n",
       "    }\n",
       "</style>\n",
       "<table border=\"1\" class=\"dataframe\">\n",
       "  <thead>\n",
       "    <tr style=\"text-align: right;\">\n",
       "      <th></th>\n",
       "      <th>username</th>\n",
       "      <th>password</th>\n",
       "      <th>accnum</th>\n",
       "      <th>firstname</th>\n",
       "      <th>lastname</th>\n",
       "      <th>balance</th>\n",
       "    </tr>\n",
       "  </thead>\n",
       "  <tbody>\n",
       "    <tr>\n",
       "      <th>0</th>\n",
       "      <td>johndoe123</td>\n",
       "      <td>password123</td>\n",
       "      <td>1000000001</td>\n",
       "      <td>John</td>\n",
       "      <td>Doe</td>\n",
       "      <td>1500.50</td>\n",
       "    </tr>\n",
       "    <tr>\n",
       "      <th>1</th>\n",
       "      <td>janedoe456</td>\n",
       "      <td>qwerty456</td>\n",
       "      <td>1000000002</td>\n",
       "      <td>Jane</td>\n",
       "      <td>Doe</td>\n",
       "      <td>3200.75</td>\n",
       "    </tr>\n",
       "    <tr>\n",
       "      <th>2</th>\n",
       "      <td>sam_smith789</td>\n",
       "      <td>letmein789</td>\n",
       "      <td>1000000003</td>\n",
       "      <td>Sam</td>\n",
       "      <td>Smith</td>\n",
       "      <td>800.00</td>\n",
       "    </tr>\n",
       "    <tr>\n",
       "      <th>3</th>\n",
       "      <td>alex_lee321</td>\n",
       "      <td>admin321</td>\n",
       "      <td>1000000004</td>\n",
       "      <td>Alex</td>\n",
       "      <td>Lee</td>\n",
       "      <td>1200.30</td>\n",
       "    </tr>\n",
       "    <tr>\n",
       "      <th>4</th>\n",
       "      <td>maria_hernandez234</td>\n",
       "      <td>welcome987</td>\n",
       "      <td>1000000005</td>\n",
       "      <td>Maria</td>\n",
       "      <td>Hernandez</td>\n",
       "      <td>4500.00</td>\n",
       "    </tr>\n",
       "  </tbody>\n",
       "</table>\n",
       "</div>"
      ],
      "text/plain": [
       "             username     password      accnum firstname   lastname  balance\n",
       "0          johndoe123  password123  1000000001      John        Doe  1500.50\n",
       "1          janedoe456    qwerty456  1000000002      Jane        Doe  3200.75\n",
       "2        sam_smith789   letmein789  1000000003       Sam      Smith   800.00\n",
       "3         alex_lee321     admin321  1000000004      Alex        Lee  1200.30\n",
       "4  maria_hernandez234   welcome987  1000000005     Maria  Hernandez  4500.00"
      ]
     },
     "execution_count": 4,
     "metadata": {},
     "output_type": "execute_result"
    }
   ],
   "source": [
    "dict_data = {\n",
    "    'username': ['johndoe123', 'janedoe456', 'sam_smith789', 'alex_lee321', 'maria_hernandez234'],\n",
    "    'password': ['password123', 'qwerty456', 'letmein789', 'admin321', 'welcome987'],\n",
    "    'accnum': [1000000001, 1000000002, 1000000003, 1000000004, 1000000005],\n",
    "    'firstname': ['John', 'Jane', 'Sam', 'Alex', 'Maria'],\n",
    "    'lastname': ['Doe', 'Doe', 'Smith', 'Lee', 'Hernandez'],\n",
    "    'balance': [1500.50, 3200.75, 800.00, 1200.30, 4500.00]\n",
    "}\n",
    "df=pd.DataFrame(dict_data)\n",
    "df"
   ]
  },
  {
   "cell_type": "code",
   "execution_count": 5,
   "metadata": {},
   "outputs": [
    {
     "name": "stdout",
     "output_type": "stream",
     "text": [
      "<class 'pandas.core.frame.DataFrame'>\n",
      "RangeIndex: 5 entries, 0 to 4\n",
      "Data columns (total 6 columns):\n",
      " #   Column     Non-Null Count  Dtype  \n",
      "---  ------     --------------  -----  \n",
      " 0   username   5 non-null      object \n",
      " 1   password   5 non-null      object \n",
      " 2   accnum     5 non-null      int64  \n",
      " 3   firstname  5 non-null      object \n",
      " 4   lastname   5 non-null      object \n",
      " 5   balance    5 non-null      float64\n",
      "dtypes: float64(1), int64(1), object(4)\n",
      "memory usage: 372.0+ bytes\n"
     ]
    }
   ],
   "source": [
    "df.info()"
   ]
  },
  {
   "cell_type": "code",
   "execution_count": 6,
   "metadata": {},
   "outputs": [],
   "source": [
    "fn=df['firstname'].values[0]\n",
    "ln=df['lastname'].values[0]\n",
    "acc=df['accnum'].values[0]\n",
    "bl=df['balance'].values[0]"
   ]
  },
  {
   "cell_type": "code",
   "execution_count": 7,
   "metadata": {},
   "outputs": [
    {
     "data": {
      "text/plain": [
       "1000000001"
      ]
     },
     "execution_count": 7,
     "metadata": {},
     "output_type": "execute_result"
    }
   ],
   "source": [
    "acc"
   ]
  },
  {
   "cell_type": "code",
   "execution_count": 8,
   "metadata": {},
   "outputs": [
    {
     "data": {
      "text/html": [
       "<div>\n",
       "<style scoped>\n",
       "    .dataframe tbody tr th:only-of-type {\n",
       "        vertical-align: middle;\n",
       "    }\n",
       "\n",
       "    .dataframe tbody tr th {\n",
       "        vertical-align: top;\n",
       "    }\n",
       "\n",
       "    .dataframe thead th {\n",
       "        text-align: right;\n",
       "    }\n",
       "</style>\n",
       "<table border=\"1\" class=\"dataframe\">\n",
       "  <thead>\n",
       "    <tr style=\"text-align: right;\">\n",
       "      <th></th>\n",
       "      <th>firstname</th>\n",
       "      <th>lastname</th>\n",
       "    </tr>\n",
       "  </thead>\n",
       "  <tbody>\n",
       "    <tr>\n",
       "      <th>0</th>\n",
       "      <td>John</td>\n",
       "      <td>Doe</td>\n",
       "    </tr>\n",
       "  </tbody>\n",
       "</table>\n",
       "</div>"
      ],
      "text/plain": [
       "  firstname lastname\n",
       "0      John      Doe"
      ]
     },
     "execution_count": 8,
     "metadata": {},
     "output_type": "execute_result"
    }
   ],
   "source": [
    "df[df['accnum']==1000000001][['firstname','lastname']]"
   ]
  },
  {
   "cell_type": "code",
   "execution_count": 9,
   "metadata": {},
   "outputs": [
    {
     "data": {
      "text/html": [
       "<div>\n",
       "<style scoped>\n",
       "    .dataframe tbody tr th:only-of-type {\n",
       "        vertical-align: middle;\n",
       "    }\n",
       "\n",
       "    .dataframe tbody tr th {\n",
       "        vertical-align: top;\n",
       "    }\n",
       "\n",
       "    .dataframe thead th {\n",
       "        text-align: right;\n",
       "    }\n",
       "</style>\n",
       "<table border=\"1\" class=\"dataframe\">\n",
       "  <thead>\n",
       "    <tr style=\"text-align: right;\">\n",
       "      <th></th>\n",
       "      <th>firstname</th>\n",
       "      <th>lastname</th>\n",
       "    </tr>\n",
       "  </thead>\n",
       "  <tbody>\n",
       "    <tr>\n",
       "      <th>0</th>\n",
       "      <td>John</td>\n",
       "      <td>Doe</td>\n",
       "    </tr>\n",
       "  </tbody>\n",
       "</table>\n",
       "</div>"
      ],
      "text/plain": [
       "  firstname lastname\n",
       "0      John      Doe"
      ]
     },
     "execution_count": 9,
     "metadata": {},
     "output_type": "execute_result"
    }
   ],
   "source": [
    "df[df['accnum']==1000000001][['firstname','lastname']]"
   ]
  },
  {
   "cell_type": "code",
   "execution_count": 10,
   "metadata": {},
   "outputs": [
    {
     "data": {
      "text/plain": [
       "['John', 'Doe']"
      ]
     },
     "execution_count": 10,
     "metadata": {},
     "output_type": "execute_result"
    }
   ],
   "source": [
    "df.loc[df['accnum']==1000000001,['firstname','lastname']].values.flatten().tolist()"
   ]
  },
  {
   "cell_type": "code",
   "execution_count": 11,
   "metadata": {},
   "outputs": [],
   "source": [
    "a=df.loc[df['accnum']==1000000001,['firstname','lastname']].values.tolist()"
   ]
  },
  {
   "cell_type": "code",
   "execution_count": 12,
   "metadata": {},
   "outputs": [
    {
     "data": {
      "text/plain": [
       "([['John', 'Doe']], list)"
      ]
     },
     "execution_count": 12,
     "metadata": {},
     "output_type": "execute_result"
    }
   ],
   "source": [
    "a,type(a)"
   ]
  },
  {
   "cell_type": "code",
   "execution_count": 13,
   "metadata": {},
   "outputs": [
    {
     "data": {
      "text/plain": [
       "'John'"
      ]
     },
     "execution_count": 13,
     "metadata": {},
     "output_type": "execute_result"
    }
   ],
   "source": [
    "a[0][0]"
   ]
  },
  {
   "cell_type": "code",
   "execution_count": 14,
   "metadata": {},
   "outputs": [
    {
     "data": {
      "text/plain": [
       "'Doe'"
      ]
     },
     "execution_count": 14,
     "metadata": {},
     "output_type": "execute_result"
    }
   ],
   "source": [
    "a[0][1]"
   ]
  },
  {
   "cell_type": "code",
   "execution_count": 15,
   "metadata": {},
   "outputs": [],
   "source": [
    "a,b,c=1000000001,'johndoe123','password123'"
   ]
  },
  {
   "cell_type": "code",
   "execution_count": 16,
   "metadata": {},
   "outputs": [
    {
     "name": "stdout",
     "output_type": "stream",
     "text": [
      "1\n"
     ]
    }
   ],
   "source": [
    "if (a in df['accnum'].values) and (b in df['username'].values) and (c in df['password'].values):\n",
    "    print(1)\n",
    "else:\n",
    "    print(0)"
   ]
  },
  {
   "cell_type": "code",
   "execution_count": null,
   "metadata": {},
   "outputs": [],
   "source": [
    "class atm:\n",
    "    def __init__(self,df):\n",
    "        self.df=df\n",
    "\n",
    "    def login(self):\n",
    "        acc=int(input('Enter Account Number : '))\n",
    "        u=input('Enter User Name : ')\n",
    "        p=input('Enter Password : ')\n",
    "        # Check if the account number, username, and password match the records in the dataframe\n",
    "        if (acc in self.df['accnum'].values) and (u in self.df['username'].values) and (p in self.df['password'].values):\n",
    "            # Fetch the first name and last name based on the account number\n",
    "            a=self.df.loc[self.df['accnum']==acc,['firstname','lastname']].values.flatten().tolist()\n",
    "            print(f'Welcome to ABC Bank\\nHello {a[0]} {a[1]}')\n",
    "            return True,acc,u,p\n",
    "        else :\n",
    "            print(f'ERROR!\\nInvalid account number, username, or password. Please try again.')\n",
    "            print('If not registered Please Register Yourself')\n",
    "            return False\n",
    "\n",
    "    def register(self):\n",
    "        print('Please Provide your original details.')\n",
    "        q=int(input('Do you want to Register yourself ? :\\n(0 for no, 1 for yes)'))\n",
    "        if q==1:\n",
    "            acc=int(input('Enter Account Number : '))\n",
    "            while True:\n",
    "                user = input('Enter Username: ')\n",
    "                if user in self.df['username'].values:\n",
    "                    print('Username already taken. Please choose a different username.')\n",
    "                else:\n",
    "                    break\n",
    "            pas= input('Enter Password : ')\n",
    "            firstn= input('Enter First Name : ')\n",
    "            lastn= input('Enter Last Name : ')\n",
    "            bal=float(input('Enter Balance : '))\n",
    "            new_user={'username':user, 'password':pas, 'accnum':acc, 'firstname':firstn, 'lastname':lastn, 'balance':bal}\n",
    "            # Convert new_user dictionary to DataFrame and append it\n",
    "            new_user_df = pd.DataFrame([new_user])\n",
    "            # Use pd.concat to add the new user to the existing dataframe\n",
    "            self.df = pd.concat([self.df, new_user_df], ignore_index=True)\n",
    "            del new_user\n",
    "            print('You have been successfully registered.')\n",
    "        else :\n",
    "            print('Exiting the Process.')\n",
    "            return False\n",
    "    def balance_inq(self):\n",
    "        print()\n",
    "    def change_password(self):\n",
    "        print()\n",
    "    def transfer(self):\n",
    "        print()\n",
    "    def cash_withdraw(self):\n",
    "        print()\n",
    "    def process(self):\n",
    "        #print('WELCOME TO ABC BANK')\n",
    "        atm.login(self)\n",
    "        d={'operation':['cash withdraw',\n",
    "        'balance inquiry',\n",
    "        'transfer',\n",
    "        'change card password',\n",
    "        'new registration'],'number':[1,2,3,4,5]}\n",
    "        # index can be changed accordingly\n",
    "        opt=pd.DataFrame(d,index=['*','*','*','*','*'])\n",
    "        print(opt)\n",
    "        a=int(input('select what you want to do :'))\n",
    "        if a==1:\n",
    "            atm.cash_withdraw(self)\n",
    "        elif a==2:\n",
    "            atm.balance_inq(self)\n",
    "        elif a==3:\n",
    "            atm.transfer(self)\n",
    "        elif a==4:\n",
    "            atm.change_password(self)\n",
    "        else:\n",
    "            atm.register(self)"
   ]
  },
  {
   "cell_type": "code",
   "execution_count": 53,
   "metadata": {},
   "outputs": [],
   "source": [
    "atm_machine=atm(df)"
   ]
  },
  {
   "cell_type": "code",
   "execution_count": 54,
   "metadata": {},
   "outputs": [
    {
     "data": {
      "text/html": [
       "<div>\n",
       "<style scoped>\n",
       "    .dataframe tbody tr th:only-of-type {\n",
       "        vertical-align: middle;\n",
       "    }\n",
       "\n",
       "    .dataframe tbody tr th {\n",
       "        vertical-align: top;\n",
       "    }\n",
       "\n",
       "    .dataframe thead th {\n",
       "        text-align: right;\n",
       "    }\n",
       "</style>\n",
       "<table border=\"1\" class=\"dataframe\">\n",
       "  <thead>\n",
       "    <tr style=\"text-align: right;\">\n",
       "      <th></th>\n",
       "      <th>username</th>\n",
       "      <th>password</th>\n",
       "      <th>accnum</th>\n",
       "      <th>firstname</th>\n",
       "      <th>lastname</th>\n",
       "      <th>balance</th>\n",
       "    </tr>\n",
       "  </thead>\n",
       "  <tbody>\n",
       "    <tr>\n",
       "      <th>0</th>\n",
       "      <td>johndoe123</td>\n",
       "      <td>password123</td>\n",
       "      <td>1000000001</td>\n",
       "      <td>John</td>\n",
       "      <td>Doe</td>\n",
       "      <td>1500.50</td>\n",
       "    </tr>\n",
       "    <tr>\n",
       "      <th>1</th>\n",
       "      <td>janedoe456</td>\n",
       "      <td>qwerty456</td>\n",
       "      <td>1000000002</td>\n",
       "      <td>Jane</td>\n",
       "      <td>Doe</td>\n",
       "      <td>3200.75</td>\n",
       "    </tr>\n",
       "    <tr>\n",
       "      <th>2</th>\n",
       "      <td>sam_smith789</td>\n",
       "      <td>letmein789</td>\n",
       "      <td>1000000003</td>\n",
       "      <td>Sam</td>\n",
       "      <td>Smith</td>\n",
       "      <td>800.00</td>\n",
       "    </tr>\n",
       "    <tr>\n",
       "      <th>3</th>\n",
       "      <td>alex_lee321</td>\n",
       "      <td>admin321</td>\n",
       "      <td>1000000004</td>\n",
       "      <td>Alex</td>\n",
       "      <td>Lee</td>\n",
       "      <td>1200.30</td>\n",
       "    </tr>\n",
       "  </tbody>\n",
       "</table>\n",
       "</div>"
      ],
      "text/plain": [
       "       username     password      accnum firstname lastname  balance\n",
       "0    johndoe123  password123  1000000001      John      Doe  1500.50\n",
       "1    janedoe456    qwerty456  1000000002      Jane      Doe  3200.75\n",
       "2  sam_smith789   letmein789  1000000003       Sam    Smith   800.00\n",
       "3   alex_lee321     admin321  1000000004      Alex      Lee  1200.30"
      ]
     },
     "execution_count": 54,
     "metadata": {},
     "output_type": "execute_result"
    }
   ],
   "source": [
    "df"
   ]
  },
  {
   "cell_type": "code",
   "execution_count": 55,
   "metadata": {},
   "outputs": [
    {
     "name": "stdout",
     "output_type": "stream",
     "text": [
      "Welcome to ABC Bank\n",
      "Hello John Doe\n",
      "              operation  number\n",
      "*         cash withdraw       1\n",
      "*       balance inquiry       2\n",
      "*              transfer       3\n",
      "*  change card password       4\n",
      "*      new registration       5\n",
      "\n"
     ]
    }
   ],
   "source": [
    "atm_machine.process()"
   ]
  },
  {
   "cell_type": "code",
   "execution_count": null,
   "metadata": {},
   "outputs": [],
   "source": []
  }
 ],
 "metadata": {
  "kernelspec": {
   "display_name": "base",
   "language": "python",
   "name": "python3"
  },
  "language_info": {
   "codemirror_mode": {
    "name": "ipython",
    "version": 3
   },
   "file_extension": ".py",
   "mimetype": "text/x-python",
   "name": "python",
   "nbconvert_exporter": "python",
   "pygments_lexer": "ipython3",
   "version": "3.12.4"
  }
 },
 "nbformat": 4,
 "nbformat_minor": 2
}
